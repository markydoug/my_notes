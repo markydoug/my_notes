{
 "cells": [
  {
   "cell_type": "markdown",
   "id": "fbac91b9",
   "metadata": {},
   "source": [
    "### 2023.01.02\n",
    "In a notebook, write me a loop FOR numbers 1-100, if the number is divisible by 3 print Code, if the number is divisible by 5 print Up, if it is divisible by 3 and 5 print CodeUp. Otherwise just print the number"
   ]
  },
  {
   "cell_type": "code",
   "execution_count": 6,
   "id": "dc49e6e7",
   "metadata": {},
   "outputs": [
    {
     "name": "stdout",
     "output_type": "stream",
     "text": [
      "1\n",
      "2\n",
      "Code\n",
      "4\n",
      "Up\n",
      "Code\n",
      "7\n",
      "8\n",
      "Code\n",
      "Up\n",
      "11\n",
      "Code\n",
      "13\n",
      "14\n",
      "CodeUp\n",
      "16\n",
      "17\n",
      "Code\n",
      "19\n",
      "Up\n",
      "Code\n",
      "22\n",
      "23\n",
      "Code\n",
      "Up\n",
      "26\n",
      "Code\n",
      "28\n",
      "29\n",
      "CodeUp\n",
      "31\n",
      "32\n",
      "Code\n",
      "34\n",
      "Up\n",
      "Code\n",
      "37\n",
      "38\n",
      "Code\n",
      "Up\n",
      "41\n",
      "Code\n",
      "43\n",
      "44\n",
      "CodeUp\n",
      "46\n",
      "47\n",
      "Code\n",
      "49\n",
      "Up\n",
      "Code\n",
      "52\n",
      "53\n",
      "Code\n",
      "Up\n",
      "56\n",
      "Code\n",
      "58\n",
      "59\n",
      "CodeUp\n",
      "61\n",
      "62\n",
      "Code\n",
      "64\n",
      "Up\n",
      "Code\n",
      "67\n",
      "68\n",
      "Code\n",
      "Up\n",
      "71\n",
      "Code\n",
      "73\n",
      "74\n",
      "CodeUp\n",
      "76\n",
      "77\n",
      "Code\n",
      "79\n",
      "Up\n",
      "Code\n",
      "82\n",
      "83\n",
      "Code\n",
      "Up\n",
      "86\n",
      "Code\n",
      "88\n",
      "89\n",
      "CodeUp\n",
      "91\n",
      "92\n",
      "Code\n",
      "94\n",
      "Up\n",
      "Code\n",
      "97\n",
      "98\n",
      "Code\n",
      "Up\n"
     ]
    }
   ],
   "source": [
    "for i in range(1,101):\n",
    "    if  i % 15 == 0:\n",
    "        print('CodeUp')\n",
    "    elif i % 5 == 0:\n",
    "        print('Up')\n",
    "    elif i % 3 == 0:\n",
    "        print('Code')\n",
    "    else:\n",
    "        print(f'{i}')"
   ]
  },
  {
   "cell_type": "markdown",
   "id": "8d36b2bc",
   "metadata": {},
   "source": [
    "## Write a program that returns a list that contains only the elements that are common between two lists (without duplicates). Make sure your program works on two lists of different sizes."
   ]
  },
  {
   "cell_type": "code",
   "execution_count": 7,
   "id": "ef2c8cae",
   "metadata": {},
   "outputs": [],
   "source": [
    "def same_same_not_different(list1, list2):\n",
    "    return list(set(list1).intersection(list2))"
   ]
  },
  {
   "cell_type": "code",
   "execution_count": 1,
   "id": "e2d3986c",
   "metadata": {},
   "outputs": [],
   "source": [
    "list1 = [1, 2, 55, 101, 99]\n",
    "list2 = [8, 55, 99, 99, 10, 11, 109]"
   ]
  },
  {
   "cell_type": "code",
   "execution_count": 6,
   "id": "e949d455",
   "metadata": {},
   "outputs": [
    {
     "data": {
      "text/plain": [
       "[99, 55]"
      ]
     },
     "execution_count": 6,
     "metadata": {},
     "output_type": "execute_result"
    }
   ],
   "source": [
    "common_list = set(list1).intersection(list2)\n",
    "list(common_list)"
   ]
  },
  {
   "cell_type": "code",
   "execution_count": 8,
   "id": "0956d52c",
   "metadata": {},
   "outputs": [
    {
     "data": {
      "text/plain": [
       "[99, 55]"
      ]
     },
     "execution_count": 8,
     "metadata": {},
     "output_type": "execute_result"
    }
   ],
   "source": [
    "same_same_not_different(list1, list2)"
   ]
  },
  {
   "cell_type": "markdown",
   "id": "57366534",
   "metadata": {},
   "source": [
    "## Write a function that takes a list of numbers and returns a list with two elements:\n",
    "- The first element should be the sum of all even numbers in the list.\n",
    "- The second element should be the sum of all odd numbers in the list."
   ]
  },
  {
   "cell_type": "code",
   "execution_count": 1,
   "id": "cf4618bd",
   "metadata": {},
   "outputs": [],
   "source": [
    "def sum_odd_and_even(some_list):\n",
    "    evens = 0\n",
    "    odds = 0\n",
    "    for i in some_list:\n",
    "        if i % 2 == 0:\n",
    "            evens += i\n",
    "        else:\n",
    "            odds += i\n",
    "    return [evens, odds]"
   ]
  },
  {
   "cell_type": "code",
   "execution_count": 2,
   "id": "babe2169",
   "metadata": {},
   "outputs": [
    {
     "data": {
      "text/plain": [
       "[12, 9]"
      ]
     },
     "execution_count": 2,
     "metadata": {},
     "output_type": "execute_result"
    }
   ],
   "source": [
    "sum_odd_and_even([1, 2, 3, 4, 5, 6])"
   ]
  },
  {
   "cell_type": "code",
   "execution_count": null,
   "id": "a8170a8e",
   "metadata": {},
   "outputs": [],
   "source": []
  }
 ],
 "metadata": {
  "kernelspec": {
   "display_name": "Python 3 (ipykernel)",
   "language": "python",
   "name": "python3"
  },
  "language_info": {
   "codemirror_mode": {
    "name": "ipython",
    "version": 3
   },
   "file_extension": ".py",
   "mimetype": "text/x-python",
   "name": "python",
   "nbconvert_exporter": "python",
   "pygments_lexer": "ipython3",
   "version": "3.9.12"
  }
 },
 "nbformat": 4,
 "nbformat_minor": 5
}
