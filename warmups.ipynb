{
 "cells": [
  {
   "cell_type": "markdown",
   "id": "fbac91b9",
   "metadata": {},
   "source": [
    "### 2023.01.02\n",
    "In a notebook, write me a loop FOR numbers 1-100, if the number is divisible by 3 print Code, if the number is divisible by 5 print Up, if it is divisible by 3 and 5 print CodeUp. Otherwise just print the number"
   ]
  },
  {
   "cell_type": "code",
   "execution_count": 6,
   "id": "dc49e6e7",
   "metadata": {},
   "outputs": [
    {
     "name": "stdout",
     "output_type": "stream",
     "text": [
      "1\n",
      "2\n",
      "Code\n",
      "4\n",
      "Up\n",
      "Code\n",
      "7\n",
      "8\n",
      "Code\n",
      "Up\n",
      "11\n",
      "Code\n",
      "13\n",
      "14\n",
      "CodeUp\n",
      "16\n",
      "17\n",
      "Code\n",
      "19\n",
      "Up\n",
      "Code\n",
      "22\n",
      "23\n",
      "Code\n",
      "Up\n",
      "26\n",
      "Code\n",
      "28\n",
      "29\n",
      "CodeUp\n",
      "31\n",
      "32\n",
      "Code\n",
      "34\n",
      "Up\n",
      "Code\n",
      "37\n",
      "38\n",
      "Code\n",
      "Up\n",
      "41\n",
      "Code\n",
      "43\n",
      "44\n",
      "CodeUp\n",
      "46\n",
      "47\n",
      "Code\n",
      "49\n",
      "Up\n",
      "Code\n",
      "52\n",
      "53\n",
      "Code\n",
      "Up\n",
      "56\n",
      "Code\n",
      "58\n",
      "59\n",
      "CodeUp\n",
      "61\n",
      "62\n",
      "Code\n",
      "64\n",
      "Up\n",
      "Code\n",
      "67\n",
      "68\n",
      "Code\n",
      "Up\n",
      "71\n",
      "Code\n",
      "73\n",
      "74\n",
      "CodeUp\n",
      "76\n",
      "77\n",
      "Code\n",
      "79\n",
      "Up\n",
      "Code\n",
      "82\n",
      "83\n",
      "Code\n",
      "Up\n",
      "86\n",
      "Code\n",
      "88\n",
      "89\n",
      "CodeUp\n",
      "91\n",
      "92\n",
      "Code\n",
      "94\n",
      "Up\n",
      "Code\n",
      "97\n",
      "98\n",
      "Code\n",
      "Up\n"
     ]
    }
   ],
   "source": [
    "for i in range(1,101):\n",
    "    if  i % 15 == 0:\n",
    "        print('CodeUp')\n",
    "    elif i % 5 == 0:\n",
    "        print('Up')\n",
    "    elif i % 3 == 0:\n",
    "        print('Code')\n",
    "    else:\n",
    "        print(f'{i}')"
   ]
  },
  {
   "cell_type": "markdown",
   "id": "8d36b2bc",
   "metadata": {},
   "source": [
    "## Write a program that returns a list that contains only the elements that are common between two lists (without duplicates). Make sure your program works on two lists of different sizes."
   ]
  },
  {
   "cell_type": "code",
   "execution_count": 7,
   "id": "ef2c8cae",
   "metadata": {},
   "outputs": [],
   "source": [
    "def same_same_not_different(list1, list2):\n",
    "    return list(set(list1).intersection(list2))"
   ]
  },
  {
   "cell_type": "code",
   "execution_count": 1,
   "id": "e2d3986c",
   "metadata": {},
   "outputs": [],
   "source": [
    "list1 = [1, 2, 55, 101, 99]\n",
    "list2 = [8, 55, 99, 99, 10, 11, 109]"
   ]
  },
  {
   "cell_type": "code",
   "execution_count": 6,
   "id": "e949d455",
   "metadata": {},
   "outputs": [
    {
     "data": {
      "text/plain": [
       "[99, 55]"
      ]
     },
     "execution_count": 6,
     "metadata": {},
     "output_type": "execute_result"
    }
   ],
   "source": [
    "common_list = set(list1).intersection(list2)\n",
    "list(common_list)"
   ]
  },
  {
   "cell_type": "code",
   "execution_count": 8,
   "id": "0956d52c",
   "metadata": {},
   "outputs": [
    {
     "data": {
      "text/plain": [
       "[99, 55]"
      ]
     },
     "execution_count": 8,
     "metadata": {},
     "output_type": "execute_result"
    }
   ],
   "source": [
    "same_same_not_different(list1, list2)"
   ]
  },
  {
   "cell_type": "markdown",
   "id": "57366534",
   "metadata": {},
   "source": [
    "## Write a function that takes a list of numbers and returns a list with two elements:\n",
    "- The first element should be the sum of all even numbers in the list.\n",
    "- The second element should be the sum of all odd numbers in the list."
   ]
  },
  {
   "cell_type": "code",
   "execution_count": 1,
   "id": "cf4618bd",
   "metadata": {},
   "outputs": [],
   "source": [
    "def sum_odd_and_even(some_list):\n",
    "    evens = 0\n",
    "    odds = 0\n",
    "    for i in some_list:\n",
    "        if i % 2 == 0:\n",
    "            evens += i\n",
    "        else:\n",
    "            odds += i\n",
    "    return [evens, odds]"
   ]
  },
  {
   "cell_type": "code",
   "execution_count": 2,
   "id": "babe2169",
   "metadata": {},
   "outputs": [
    {
     "data": {
      "text/plain": [
       "[12, 9]"
      ]
     },
     "execution_count": 2,
     "metadata": {},
     "output_type": "execute_result"
    }
   ],
   "source": [
    "sum_odd_and_even([1, 2, 3, 4, 5, 6])"
   ]
  },
  {
   "cell_type": "markdown",
   "id": "0fa8dc21",
   "metadata": {},
   "source": [
    "## Custom zip\n",
    "The built-in zip function \"zips\" two lists. Write your own implementation of this function.\n",
    "\n",
    "Define a function named zap. The function takes two parameters, a and b. These are lists.\n",
    "\n",
    "Your function should return a list of tuples. Each tuple should contain one item from the a list and one from b.\n",
    "\n",
    "You may assume a and b have equal lengths.\n",
    "\n",
    "If you don't get it, think of a zipper."
   ]
  },
  {
   "cell_type": "code",
   "execution_count": 1,
   "id": "ec63927c",
   "metadata": {},
   "outputs": [],
   "source": [
    "a = [0,1,2,3,4]\n",
    "b = [5,6,7,8,9]"
   ]
  },
  {
   "cell_type": "code",
   "execution_count": 13,
   "id": "090663c0",
   "metadata": {
    "scrolled": true
   },
   "outputs": [
    {
     "data": {
      "text/plain": [
       "[(0, 5), (1, 6), (2, 7), (3, 8), (4, 9)]"
      ]
     },
     "execution_count": 13,
     "metadata": {},
     "output_type": "execute_result"
    }
   ],
   "source": [
    "zapped = []\n",
    "for i in range(len(a)):\n",
    "    zapped.append((a[i],b[i]))\n",
    "zapped"
   ]
  },
  {
   "cell_type": "code",
   "execution_count": 11,
   "id": "1c33c25c",
   "metadata": {},
   "outputs": [
    {
     "data": {
      "text/plain": [
       "1"
      ]
     },
     "execution_count": 11,
     "metadata": {},
     "output_type": "execute_result"
    }
   ],
   "source": [
    "a[1]"
   ]
  },
  {
   "cell_type": "code",
   "execution_count": null,
   "id": "1637843a",
   "metadata": {},
   "outputs": [],
   "source": [
    "def zap(a,b):\n",
    "    zapped = []\n",
    "    for i in range(len(a)):\n",
    "        zapped.append((a[i],b[i]))\n",
    "    return zapped"
   ]
  },
  {
   "cell_type": "markdown",
   "id": "248c6bc8",
   "metadata": {},
   "source": [
    "### Alternate solution"
   ]
  },
  {
   "cell_type": "code",
   "execution_count": null,
   "id": "8f32726b",
   "metadata": {},
   "outputs": [],
   "source": [
    "def zap(a,b):\n",
    "    return [(a[i], b[i]) for i in range(len(a))]"
   ]
  },
  {
   "cell_type": "markdown",
   "id": "ef760efb",
   "metadata": {},
   "source": [
    "# 2023.02.13"
   ]
  },
  {
   "cell_type": "markdown",
   "id": "71d42a78",
   "metadata": {},
   "source": [
    "## Counting parameters\n",
    "Define a function param_count that takes a variable number of parameters. The function should return the number of arguments it was called with.\n",
    "\n",
    "For example, param_count() should return 0, while param_count(2, 3, 4) should return 3."
   ]
  },
  {
   "cell_type": "code",
   "execution_count": null,
   "id": "639ea48f",
   "metadata": {},
   "outputs": [],
   "source": [
    "def param_count(*args):\n",
    "    return len(args)"
   ]
  },
  {
   "cell_type": "markdown",
   "id": "e5fc5763",
   "metadata": {},
   "source": [
    "## Solution validation\n",
    "The aim of this challenge is to write code that can analyze code submissions. We'll simplify things a lot to not make this too hard.\n",
    "\n",
    "Write a function named validate that takes code represented as a string as its only parameter.\n",
    "\n",
    "Your function should check a few things:\n",
    "\n",
    "the code must contain the def keyword\n",
    "otherwise return \"missing def\"\n",
    "\n",
    "the code must contain the : symbol\n",
    "otherwise return \"missing :\"\n",
    "\n",
    "the code must contain ( and ) for the parameter list\n",
    "otherwise return \"missing paren\"\n",
    "\n",
    "the code must not contain ()\n",
    "otherwise return \"missing param\"\n",
    "\n",
    "the code must contain four spaces for indentation\n",
    "otherwise return \"missing indent\"\n",
    "\n",
    "the code must contain validate\n",
    "otherwise return \"wrong name\"\n",
    "\n",
    "the code must contain a return statement\n",
    "otherwise return \"missing return\"\n",
    "\n",
    "If all these conditions are satisfied, your code should return True.\n",
    "\n",
    "Here comes the twist: your solution must return True when validating itself."
   ]
  },
  {
   "cell_type": "code",
   "execution_count": 41,
   "id": "ac7d922f",
   "metadata": {},
   "outputs": [],
   "source": [
    "\n",
    "def validate(code):\n",
    "    if code.find('def') < 0:\n",
    "        return \"missing def\"\n",
    "    elif code.find(':') < 0:\n",
    "        return \"missing :\"\n",
    "    elif code.find('(') < 0 and code.find(')') < 0:\n",
    "        return \"missing paren\"\n",
    "    elif  \"(\" + \")\" in code: #this row threw me for a loop, got this code from an online source\n",
    "        return \"missing param\"\n",
    "    elif code.find('    ') < 0 :\n",
    "        return \"missing indent\"\n",
    "    elif code.find('validate') < 0 :\n",
    "        return \"wrong name\"\n",
    "    elif code.find('return') < 0 :\n",
    "        return \"missing return\"\n",
    "    else:\n",
    "        return True"
   ]
  },
  {
   "cell_type": "code",
   "execution_count": 43,
   "id": "68dece12",
   "metadata": {},
   "outputs": [],
   "source": [
    "#website answer solutions\n",
    "def validate(code):\n",
    "    if \"def\" not in code:\n",
    "        return \"missing def\"\n",
    "    if \":\" not in code:\n",
    "        return \"missing :\"\n",
    "    if \"(\" not in code or \")\" not in code:\n",
    "        return \"missing paren\"\n",
    "    if \"(\" + \")\" in code:\n",
    "        return \"missing param\"\n",
    "    if \"    \" not in code:\n",
    "        return \"missing indent\"\n",
    "    if \"validate\" not in code:\n",
    "        return \"wrong name\"\n",
    "    if \"return\" not in code:\n",
    "        return \"missing return\"\n",
    "    return True"
   ]
  },
  {
   "cell_type": "code",
   "execution_count": 44,
   "id": "d9485ffd",
   "metadata": {},
   "outputs": [
    {
     "data": {
      "text/plain": [
       "True"
      ]
     },
     "execution_count": 44,
     "metadata": {},
     "output_type": "execute_result"
    }
   ],
   "source": [
    "validate(\"def validate(code):    if code.find('def')<0: print('missing def') return true\")"
   ]
  },
  {
   "cell_type": "code",
   "execution_count": 45,
   "id": "468b0b0d",
   "metadata": {},
   "outputs": [
    {
     "data": {
      "text/plain": [
       "'missing param'"
      ]
     },
     "execution_count": 45,
     "metadata": {},
     "output_type": "execute_result"
    }
   ],
   "source": [
    "validate('def validate(code):\\n if code.find(\\'def\\') < 0:\\n return \"missing def\"\\n elif code.find(\\':\\') < 0:\\n return \"missing :\"\\n elif code.find(\\'(\\') < 0 and code.find(\\')\\') < 0:\\n return \"missing paren\"\\n elif code.find(\\'()\\') > 0 :\\n return \"missing param\"\\n elif code.find(\\' \\') < 0 :\\n return \"missing indent\"\\n elif code.find(\\'validate\\') < 0 :\\n return \"wrong name\"\\n elif code.find(\\'return\\') < 0 :\\n return \"missing return\"\\n else:\\n return True')\n",
    "\n",
    "\n"
   ]
  },
  {
   "cell_type": "markdown",
   "id": "2811e541",
   "metadata": {},
   "source": [
    "## 2023.02.14\n",
    "\n",
    "List xor\n",
    "Define a function named list_xor. Your function should take three parameters: n, list1 and list2.\n",
    "\n",
    "Your function must return whether n is exclusively in list1 or list2.\n",
    "\n",
    "In other words, if n is in both lists or in none of the lists, return False. If n is in only one of the lists, return True."
   ]
  },
  {
   "cell_type": "code",
   "execution_count": 9,
   "id": "a7b6768d",
   "metadata": {},
   "outputs": [],
   "source": [
    "n = 1\n",
    "list1 = [1, 2, 3]\n",
    "list2 = [4, 5, 6]"
   ]
  },
  {
   "cell_type": "code",
   "execution_count": 10,
   "id": "51820786",
   "metadata": {},
   "outputs": [],
   "source": [
    "def list_xor(n, list1, list2):\n",
    "    if (n in list1 and n not in list2) or (n not in list1 and n in list2):\n",
    "        return True\n",
    "    else:\n",
    "        return False"
   ]
  },
  {
   "cell_type": "code",
   "execution_count": 11,
   "id": "26e45914",
   "metadata": {},
   "outputs": [
    {
     "data": {
      "text/plain": [
       "True"
      ]
     },
     "execution_count": 11,
     "metadata": {},
     "output_type": "execute_result"
    }
   ],
   "source": [
    "list_xor(n, list1, list2)"
   ]
  },
  {
   "cell_type": "code",
   "execution_count": null,
   "id": "876d85a3",
   "metadata": {},
   "outputs": [],
   "source": [
    "# smart solution: uses the built-in xor operator ^\n",
    "def list_xor(n, list1, list2):\n",
    "    return (n in list1) ^ (n in list2)"
   ]
  },
  {
   "cell_type": "code",
   "execution_count": null,
   "id": "b28a4b49",
   "metadata": {},
   "outputs": [],
   "source": []
  },
  {
   "cell_type": "markdown",
   "id": "dc424085",
   "metadata": {},
   "source": [
    "## 2023.02.15\n",
    "\n",
    "Create a function that takes a number num and returns its length.\n",
    "\n",
    "**The use of the len() function is prohibited.**"
   ]
  },
  {
   "cell_type": "code",
   "execution_count": 2,
   "id": "3eb561bf",
   "metadata": {},
   "outputs": [],
   "source": [
    "count = 0\n",
    "num = 5000\n",
    "\n",
    "\n",
    "for i in str(num):\n",
    "    count +=1"
   ]
  },
  {
   "cell_type": "code",
   "execution_count": 3,
   "id": "f41a9f9e",
   "metadata": {},
   "outputs": [
    {
     "data": {
      "text/plain": [
       "4"
      ]
     },
     "execution_count": 3,
     "metadata": {},
     "output_type": "execute_result"
    }
   ],
   "source": [
    "count"
   ]
  },
  {
   "cell_type": "code",
   "execution_count": 4,
   "id": "d8966c8e",
   "metadata": {},
   "outputs": [],
   "source": [
    "def number_length(num):\n",
    "    count = 0\n",
    "    for i in str(num):\n",
    "        count +=1\n",
    "    return count"
   ]
  },
  {
   "cell_type": "code",
   "execution_count": 5,
   "id": "467899ae",
   "metadata": {},
   "outputs": [
    {
     "data": {
      "text/plain": [
       "6"
      ]
     },
     "execution_count": 5,
     "metadata": {},
     "output_type": "execute_result"
    }
   ],
   "source": [
    "number_length(303939)"
   ]
  },
  {
   "cell_type": "markdown",
   "id": "23e9d868",
   "metadata": {},
   "source": [
    "#### Fix the code in the below to pass this challenge (only syntax errors). Look at the examples below to get an idea of what the function should do.\n",
    "\n",
    "```def cubes(a):\n",
    "\tretunr a ** 3```"
   ]
  },
  {
   "cell_type": "code",
   "execution_count": 6,
   "id": "493dbdc7",
   "metadata": {},
   "outputs": [],
   "source": [
    "def cubes(a):\n",
    "    return a ** 3"
   ]
  },
  {
   "cell_type": "code",
   "execution_count": 8,
   "id": "9c3d70e8",
   "metadata": {},
   "outputs": [
    {
     "data": {
      "text/plain": [
       "125"
      ]
     },
     "execution_count": 8,
     "metadata": {},
     "output_type": "execute_result"
    }
   ],
   "source": [
    "cubes(5)"
   ]
  },
  {
   "cell_type": "markdown",
   "id": "be589983",
   "metadata": {},
   "source": [
    "#### Create a function that takes two numbers as arguments and returns their sum.\n",
    "\n",
    "```addition(3, 2) ➞ 5```\n",
    "\n",
    "```addition(-3, -6) ➞ -9```\n",
    "\n",
    "```addition(7, 3) ➞ 10```"
   ]
  },
  {
   "cell_type": "code",
   "execution_count": 9,
   "id": "bce91508",
   "metadata": {},
   "outputs": [],
   "source": [
    "def addition(a, b):\n",
    "    return a + b"
   ]
  },
  {
   "cell_type": "code",
   "execution_count": 10,
   "id": "58d557b3",
   "metadata": {},
   "outputs": [
    {
     "data": {
      "text/plain": [
       "5"
      ]
     },
     "execution_count": 10,
     "metadata": {},
     "output_type": "execute_result"
    }
   ],
   "source": [
    "addition(3,2)"
   ]
  },
  {
   "cell_type": "markdown",
   "id": "99c7515f",
   "metadata": {},
   "source": [
    "#### Create a function that takes a country's name and its area as arguments and returns the area of the country's proportion of the total world's landmass.\n",
    "\n",
    "- The total world's landmass is 148,940,000 [Km^2]\n",
    "- Round the result to two decimal places."
   ]
  },
  {
   "cell_type": "code",
   "execution_count": 15,
   "id": "e20ce64e",
   "metadata": {},
   "outputs": [],
   "source": [
    "def area_of_country(name, area):\n",
    "    proportion = (area/148940000) * 100\n",
    "    return f\"{name} is {proportion:.2f}% of the total world's landmass\""
   ]
  },
  {
   "cell_type": "code",
   "execution_count": 16,
   "id": "fe7eba37",
   "metadata": {},
   "outputs": [
    {
     "data": {
      "text/plain": [
       "\"Russia is 11.48% of the total world's landmass\""
      ]
     },
     "execution_count": 16,
     "metadata": {},
     "output_type": "execute_result"
    }
   ],
   "source": [
    "area_of_country(\"Russia\", 17098242)"
   ]
  },
  {
   "cell_type": "code",
   "execution_count": 17,
   "id": "0c13be5a",
   "metadata": {},
   "outputs": [],
   "source": [
    "#solution using .format\n",
    "\n",
    "def area_of_country(name, area):\n",
    "    return \"{} is {:.2%} of the total world's landmass\".format(name, area / 148940000)"
   ]
  },
  {
   "cell_type": "markdown",
   "id": "84af5b62",
   "metadata": {},
   "source": [
    "## 2023.02.16\n",
    "\n",
    "#### Create a function that finds the highest integer in the list using recursion.\n",
    "\n",
    "*Please use the recursion to solve this (not the max() method).*"
   ]
  },
  {
   "cell_type": "code",
   "execution_count": 4,
   "id": "131cc053",
   "metadata": {},
   "outputs": [],
   "source": [
    "highest = 0\n",
    "for num in [1,7,2,2]:\n",
    "    if num > highest:\n",
    "        highest = num"
   ]
  },
  {
   "cell_type": "code",
   "execution_count": 5,
   "id": "121e8cd7",
   "metadata": {},
   "outputs": [
    {
     "data": {
      "text/plain": [
       "7"
      ]
     },
     "execution_count": 5,
     "metadata": {},
     "output_type": "execute_result"
    }
   ],
   "source": [
    "highest "
   ]
  },
  {
   "cell_type": "code",
   "execution_count": null,
   "id": "a7c3d6ce",
   "metadata": {},
   "outputs": [],
   "source": [
    "def find_highest(lst):\n",
    "    highest = 0\n",
    "    for num in lst:\n",
    "        if num > highest:\n",
    "            highest = num\n",
    "    return highest       "
   ]
  },
  {
   "cell_type": "code",
   "execution_count": null,
   "id": "312a3bfb",
   "metadata": {},
   "outputs": [],
   "source": [
    "#other solution from website\n",
    "def find_highest(lst):\n",
    "    if len(lst) == 1:\n",
    "        return lst[0]\n",
    "    else:\n",
    "        current = find_highest(lst[1:])\n",
    "    return current if current > lst[0] else lst[0]"
   ]
  },
  {
   "cell_type": "code",
   "execution_count": null,
   "id": "489eaa87",
   "metadata": {},
   "outputs": [],
   "source": []
  },
  {
   "cell_type": "markdown",
   "id": "d9755080",
   "metadata": {},
   "source": [
    "## Virtual DAC\n",
    "In electronics, a digital-to-analog converter (DAC, D/A, or D-to-A) is a system that converts a binary representation of that signal into an analog output. An 8 bit converter can represent a maximum of 2^8 different values, with each successive value differing by 1/256 of the full scale value, this becomes the system resolution.\n",
    "\n",
    "Create a function that takes a decimal number representation of a signal and returns the analog voltage level that would be created by a DAC if it were given the same number in binary.\n",
    "\n",
    "While value range is 0-1023, reference range is 0-5.00 volts. Value and reference is directly proportional.\n",
    "\n",
    "This DAC has 10 bits of resolution and the DAC reference is set at 5.00 volts.\n",
    "\n",
    "***You should return your value rounded to two decimal places.***"
   ]
  },
  {
   "cell_type": "code",
   "execution_count": null,
   "id": "d63f8b84",
   "metadata": {},
   "outputs": [],
   "source": []
  }
 ],
 "metadata": {
  "kernelspec": {
   "display_name": "Python 3 (ipykernel)",
   "language": "python",
   "name": "python3"
  },
  "language_info": {
   "codemirror_mode": {
    "name": "ipython",
    "version": 3
   },
   "file_extension": ".py",
   "mimetype": "text/x-python",
   "name": "python",
   "nbconvert_exporter": "python",
   "pygments_lexer": "ipython3",
   "version": "3.9.12"
  }
 },
 "nbformat": 4,
 "nbformat_minor": 5
}
